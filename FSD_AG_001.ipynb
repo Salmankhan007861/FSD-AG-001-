{
  "nbformat": 4,
  "nbformat_minor": 0,
  "metadata": {
    "colab": {
      "provenance": []
    },
    "kernelspec": {
      "name": "python3",
      "display_name": "Python 3"
    },
    "language_info": {
      "name": "python"
    }
  },
  "cells": [
    {
      "cell_type": "markdown",
      "source": [
        " FSD-AG-001\n",
        ""
      ],
      "metadata": {
        "id": "YbeyXggZtGqs"
      }
    },
    {
      "cell_type": "code",
      "source": [
        "#Question 1 : Explain the basic structure of an HTML page. Why is it important to follow this structure?\n",
        "\"\"\"- Basic structure which HTML page follows is-\n",
        "<!DOCTYPE html>\n",
        "<html lang=\"en\">\n",
        "<head>\n",
        "<title> hello</title>\n",
        "<body>\n",
        "<h1>hello</>\n",
        "</body>\n",
        "</html>\n",
        "1. Here <!DOCTYPE html> represents the document type.Like here it is html type.\n",
        "2. <html lang=\"eng\"> represents here default language.In this case it is English.Also it's root a root tag.\n",
        "- <head> tag contains meta data like title etc.\n",
        "- <title> tag used to decribe the main titleof the webpage which shows during searching in search engine,on the title bar of browser , also when we add website as a favourite.\n",
        "- <body> tag is the tag where to do all almost logics,coding etc.\n",
        "- <h1> tag is heading tag used to give a heading.\n",
        "- </body> , </html> tags are closing tag of above opening tag <body> and <html>\n",
        "\n",
        "- This structure is important beacuse:-\n",
        "1. This sructure helps the developer to give the well\n",
        "   defined structure to the webpage.\n",
        "2. The tags present in this structure helps the\n",
        "   browser to understand page type and page structure.\n",
        "3. By writing code in a proper manner increases the\n",
        "   performance of a website.\n",
        "\"\"\""
      ],
      "metadata": {
        "id": "0lfko3f_ytuK"
      },
      "execution_count": null,
      "outputs": []
    },
    {
      "cell_type": "code",
      "source": [
        "# Question 2: You’re building a small personal profile page. Which HTML tags will you use to highlight your name as a heading, describe yourself in a paragraph, and emphasize a key skill?\n",
        "\"\"\" We use the following tags:-\n",
        "1. For name we use <h1>tag beacuse it highlights the main points.\n",
        "2. For paragraph like things we use <p> tag.\n",
        "3. For key skill we use <strong> or <h2>  tag beacuse it highlights the main points.\n",
        "\"\"\"\n"
      ],
      "metadata": {
        "id": "OMMiHrExzB8h"
      },
      "execution_count": null,
      "outputs": []
    },
    {
      "cell_type": "code",
      "source": [
        "# Question 3: Look at the code below. Can you find and fix the mistake?\n",
        "#<!-- This is an HTML comment\n",
        "#<h1>Welcome to my website</h1>\n",
        "\"\"\" The error in the above syntax is in comment '-->' is missing in the syntax.\n",
        "so the correct syntax will be:-\n",
        "<-- This is an HTML comment -->\n",
        "<h1>Welcome to my website</h1>\n",
        "\"\"\""
      ],
      "metadata": {
        "id": "1bkVqOzY1F-L"
      },
      "execution_count": null,
      "outputs": []
    },
    {
      "cell_type": "code",
      "source": [
        "# Question 4: You’re creating a form that asks the user to enter their name, select their country from a list, and click a button to submit. Write the HTML code for this.\n",
        "<!DOCTYPE html>\n",
        "<html lang=\"en\">\n",
        "<head>\n",
        "    <meta charset=\"UTF-8\">\n",
        "    <meta name=\"viewport\" content=\"width=device-width, initial-scale=1.0\">\n",
        "    <title>Document</title>\n",
        "</head>\n",
        "<body>\n",
        "    <form>\n",
        "      <label>Enter your name</label>\n",
        "      <input type=\"text\" placeholder=\"enter your name\">\n",
        "      <br><br>\n",
        "      <label>Select your country</label>\n",
        "      <input list=\"countries\" placeholder=\"Select your Country\">\n",
        "      <datalist id=\"countries\">\n",
        "      <option value=\"India\"></option>\n",
        "      <option value=\"America\"></option>\n",
        "      <button type=\"submit\">Submit</button>\n",
        "      </datalist>\n",
        "    </form>\n",
        "\n",
        "\n",
        "</body>\n",
        "</html>"
      ],
      "metadata": {
        "id": "045JeqdG2vsN"
      },
      "execution_count": null,
      "outputs": []
    },
    {
      "cell_type": "code",
      "source": [
        "# Question 5: Write short HTML code to show your favorite fruits in a bulleted list and your top 3 programming languages in a numbered list.\n",
        "<!DOCTYPE html>\n",
        "<html lang=\"en\">\n",
        "<head>\n",
        "    <meta charset=\"UTF-8\">\n",
        "    <meta name=\"viewport\" content=\"width=device-width, initial-scale=1.0\">\n",
        "    <title>Document</title>\n",
        "</head>\n",
        "<body>\n",
        "  <h2>My favourite fruits are:-</h2>\n",
        "  <ul>\n",
        "    <li>Apple</li>\n",
        "    <li>Mango</li>\n",
        "    <li>Banana</li>\n",
        "  </ul>\n",
        "  <ol>\n",
        "     <h2>My favourite Programming languages are:-</h2>\n",
        "    <li>Javascript</li>\n",
        "    <li>c++</li>\n",
        "    <li>Python</li>\n",
        "  </ol>\n",
        "\n",
        "</body>\n",
        "</html>\n"
      ],
      "metadata": {
        "id": "n_PhRKn74ded"
      },
      "execution_count": null,
      "outputs": []
    },
    {
      "cell_type": "code",
      "source": [
        "# Question 6: Ravi wants to leave a note in his HTML file so that only other developers can see it, not the users on the website. How should he do this? Why are such notes useful?\n",
        "\"\"\" HE can leave such notes by writing comments for that code using ctrl+/(forward slash).\n",
        "    -It is important because by reading such notes anyone can easily understand the logic behind that particular notes\n",
        "    for which comment had been written.\n",
        "    \"\"\"\""
      ],
      "metadata": {
        "id": "Vxpmo15V5PoO"
      },
      "execution_count": null,
      "outputs": []
    },
    {
      "cell_type": "code",
      "source": [
        "#Question 7: Here’s a form snippet. Can you spot the error and rewrite the correct version?\n",
        "\"\"\"<form>\n",
        " <input name=\"email\">\n",
        " <select>\n",
        " <option>India</option>\n",
        " </select>\n",
        " <button>Send</buton>\n",
        "</form>\"\"\"\n",
        "\n",
        "\"\"\" here the error is in the input tag attribute here a attribute type=\"email\" is missing.Also in button\n",
        "tag a attribute type=\"submit\" is missing.\n",
        "so the correct code will be:-\"\"\"\n",
        "<form>\n",
        "  <input type=\"email\" name=\"email\">\n",
        "  <select>\n",
        "    <option>India</option>\n",
        "  </select>\n",
        "  <button type=\"submit\">Send</button>\n",
        "</form>\n"
      ],
      "metadata": {
        "id": "-trFPlRD6TQH"
      },
      "execution_count": null,
      "outputs": []
    }
  ]
}